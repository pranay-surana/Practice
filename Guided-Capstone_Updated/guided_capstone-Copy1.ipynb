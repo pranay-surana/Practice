{
 "cells": [
  {
   "cell_type": "code",
   "execution_count": 1,
   "metadata": {},
   "outputs": [
    {
     "data": {
      "text/plain": [
       "'C:\\\\Users\\\\Pranay\\\\Projects\\\\GitHub\\\\Practice\\\\Guided-Capstone_Updated'"
      ]
     },
     "execution_count": 1,
     "metadata": {},
     "output_type": "execute_result"
    }
   ],
   "source": [
    "#load python packages\n",
    "import os\n",
    "import pandas as pd\n",
    "import datetime\n",
    "import seaborn as sns\n",
    "import matplotlib.pyplot as plt\n",
    "import numpy as np\n",
    "#print out current directory\n",
    "os.getcwd()"
   ]
  },
  {
   "cell_type": "code",
   "execution_count": 2,
   "metadata": {},
   "outputs": [
    {
     "data": {
      "text/html": [
       "<div>\n",
       "<style scoped>\n",
       "    .dataframe tbody tr th:only-of-type {\n",
       "        vertical-align: middle;\n",
       "    }\n",
       "\n",
       "    .dataframe tbody tr th {\n",
       "        vertical-align: top;\n",
       "    }\n",
       "\n",
       "    .dataframe thead th {\n",
       "        text-align: right;\n",
       "    }\n",
       "</style>\n",
       "<table border=\"1\" class=\"dataframe\">\n",
       "  <thead>\n",
       "    <tr style=\"text-align: right;\">\n",
       "      <th></th>\n",
       "      <th>state</th>\n",
       "      <th>Name</th>\n",
       "      <th>summit_elev</th>\n",
       "      <th>vertical_drop</th>\n",
       "      <th>trams</th>\n",
       "      <th>fastEight</th>\n",
       "      <th>fastSixes</th>\n",
       "      <th>fastQuads</th>\n",
       "      <th>quad</th>\n",
       "      <th>triple</th>\n",
       "      <th>...</th>\n",
       "      <th>SkiableTerrain_ac</th>\n",
       "      <th>Snow Making_ac</th>\n",
       "      <th>daysOpenLastYear</th>\n",
       "      <th>yearsOpen</th>\n",
       "      <th>averageSnowfall</th>\n",
       "      <th>AdultWeekday</th>\n",
       "      <th>AdultWeekend</th>\n",
       "      <th>projectedDaysOpen</th>\n",
       "      <th>NightSkiing_ac</th>\n",
       "      <th>clusters</th>\n",
       "    </tr>\n",
       "  </thead>\n",
       "  <tbody>\n",
       "    <tr>\n",
       "      <th>0</th>\n",
       "      <td>Alaska</td>\n",
       "      <td>Hilltop Ski Area</td>\n",
       "      <td>2090</td>\n",
       "      <td>294</td>\n",
       "      <td>0</td>\n",
       "      <td>0.0</td>\n",
       "      <td>0</td>\n",
       "      <td>0</td>\n",
       "      <td>0</td>\n",
       "      <td>1</td>\n",
       "      <td>...</td>\n",
       "      <td>30.0</td>\n",
       "      <td>30.000000</td>\n",
       "      <td>150.000000</td>\n",
       "      <td>36.0</td>\n",
       "      <td>69.0</td>\n",
       "      <td>30.0</td>\n",
       "      <td>34.000000</td>\n",
       "      <td>152.0</td>\n",
       "      <td>30.0</td>\n",
       "      <td>1</td>\n",
       "    </tr>\n",
       "    <tr>\n",
       "      <th>1</th>\n",
       "      <td>Arizona</td>\n",
       "      <td>Sunrise Park Resort</td>\n",
       "      <td>11100</td>\n",
       "      <td>1800</td>\n",
       "      <td>0</td>\n",
       "      <td>0.0</td>\n",
       "      <td>0</td>\n",
       "      <td>1</td>\n",
       "      <td>2</td>\n",
       "      <td>3</td>\n",
       "      <td>...</td>\n",
       "      <td>800.0</td>\n",
       "      <td>80.000000</td>\n",
       "      <td>115.000000</td>\n",
       "      <td>49.0</td>\n",
       "      <td>250.0</td>\n",
       "      <td>74.0</td>\n",
       "      <td>78.000000</td>\n",
       "      <td>104.0</td>\n",
       "      <td>80.0</td>\n",
       "      <td>0</td>\n",
       "    </tr>\n",
       "    <tr>\n",
       "      <th>2</th>\n",
       "      <td>California</td>\n",
       "      <td>Yosemite Ski &amp; Snowboard Area</td>\n",
       "      <td>7800</td>\n",
       "      <td>600</td>\n",
       "      <td>0</td>\n",
       "      <td>0.0</td>\n",
       "      <td>0</td>\n",
       "      <td>0</td>\n",
       "      <td>0</td>\n",
       "      <td>1</td>\n",
       "      <td>...</td>\n",
       "      <td>88.0</td>\n",
       "      <td>475.882353</td>\n",
       "      <td>110.000000</td>\n",
       "      <td>84.0</td>\n",
       "      <td>300.0</td>\n",
       "      <td>47.0</td>\n",
       "      <td>47.000000</td>\n",
       "      <td>107.0</td>\n",
       "      <td>0.0</td>\n",
       "      <td>0</td>\n",
       "    </tr>\n",
       "    <tr>\n",
       "      <th>3</th>\n",
       "      <td>California</td>\n",
       "      <td>Boreal Mountain Resort</td>\n",
       "      <td>7700</td>\n",
       "      <td>500</td>\n",
       "      <td>0</td>\n",
       "      <td>0.0</td>\n",
       "      <td>0</td>\n",
       "      <td>1</td>\n",
       "      <td>1</td>\n",
       "      <td>3</td>\n",
       "      <td>...</td>\n",
       "      <td>380.0</td>\n",
       "      <td>200.000000</td>\n",
       "      <td>150.000000</td>\n",
       "      <td>54.0</td>\n",
       "      <td>400.0</td>\n",
       "      <td>49.0</td>\n",
       "      <td>81.416667</td>\n",
       "      <td>150.0</td>\n",
       "      <td>200.0</td>\n",
       "      <td>0</td>\n",
       "    </tr>\n",
       "    <tr>\n",
       "      <th>4</th>\n",
       "      <td>California</td>\n",
       "      <td>Dodge Ridge</td>\n",
       "      <td>8200</td>\n",
       "      <td>1600</td>\n",
       "      <td>0</td>\n",
       "      <td>0.0</td>\n",
       "      <td>0</td>\n",
       "      <td>0</td>\n",
       "      <td>1</td>\n",
       "      <td>2</td>\n",
       "      <td>...</td>\n",
       "      <td>862.0</td>\n",
       "      <td>475.882353</td>\n",
       "      <td>152.111111</td>\n",
       "      <td>69.0</td>\n",
       "      <td>350.0</td>\n",
       "      <td>78.0</td>\n",
       "      <td>78.000000</td>\n",
       "      <td>140.0</td>\n",
       "      <td>0.0</td>\n",
       "      <td>0</td>\n",
       "    </tr>\n",
       "  </tbody>\n",
       "</table>\n",
       "<p>5 rows × 26 columns</p>\n",
       "</div>"
      ],
      "text/plain": [
       "        state                           Name  summit_elev  vertical_drop  \\\n",
       "0      Alaska               Hilltop Ski Area         2090            294   \n",
       "1     Arizona            Sunrise Park Resort        11100           1800   \n",
       "2  California  Yosemite Ski & Snowboard Area         7800            600   \n",
       "3  California         Boreal Mountain Resort         7700            500   \n",
       "4  California                    Dodge Ridge         8200           1600   \n",
       "\n",
       "   trams  fastEight  fastSixes  fastQuads  quad  triple  ...  \\\n",
       "0      0        0.0          0          0     0       1  ...   \n",
       "1      0        0.0          0          1     2       3  ...   \n",
       "2      0        0.0          0          0     0       1  ...   \n",
       "3      0        0.0          0          1     1       3  ...   \n",
       "4      0        0.0          0          0     1       2  ...   \n",
       "\n",
       "   SkiableTerrain_ac  Snow Making_ac  daysOpenLastYear  yearsOpen  \\\n",
       "0               30.0       30.000000        150.000000       36.0   \n",
       "1              800.0       80.000000        115.000000       49.0   \n",
       "2               88.0      475.882353        110.000000       84.0   \n",
       "3              380.0      200.000000        150.000000       54.0   \n",
       "4              862.0      475.882353        152.111111       69.0   \n",
       "\n",
       "   averageSnowfall  AdultWeekday  AdultWeekend  projectedDaysOpen  \\\n",
       "0             69.0          30.0     34.000000              152.0   \n",
       "1            250.0          74.0     78.000000              104.0   \n",
       "2            300.0          47.0     47.000000              107.0   \n",
       "3            400.0          49.0     81.416667              150.0   \n",
       "4            350.0          78.0     78.000000              140.0   \n",
       "\n",
       "   NightSkiing_ac  clusters  \n",
       "0            30.0         1  \n",
       "1            80.0         0  \n",
       "2             0.0         0  \n",
       "3           200.0         0  \n",
       "4             0.0         0  \n",
       "\n",
       "[5 rows x 26 columns]"
      ]
     },
     "execution_count": 2,
     "metadata": {},
     "output_type": "execute_result"
    }
   ],
   "source": [
    "#path = '/Users/hitesh.hinduja/Downloads/capstone-01-master/data/processed'\n",
    "#print(os.listdir(path))\n",
    "#os.chdir(path)\n",
    "\n",
    "df = pd.read_csv('data/step3_output.csv',)\n",
    "df.head()"
   ]
  },
  {
   "cell_type": "code",
   "execution_count": 3,
   "metadata": {},
   "outputs": [],
   "source": [
    "df.drop('AdultWeekday', axis=1, inplace=True)"
   ]
  },
  {
   "cell_type": "code",
   "execution_count": 4,
   "metadata": {},
   "outputs": [
    {
     "name": "stdout",
     "output_type": "stream",
     "text": [
      "        state\n",
      "0      Alaska\n",
      "1     Arizona\n",
      "2  California\n",
      "3  California\n",
      "4  California\n",
      "<class 'pandas.core.frame.DataFrame'>\n",
      "RangeIndex: 176 entries, 0 to 175\n",
      "Data columns (total 59 columns):\n",
      " #   Column                Non-Null Count  Dtype  \n",
      "---  ------                --------------  -----  \n",
      " 0   Name                  176 non-null    object \n",
      " 1   summit_elev           176 non-null    int64  \n",
      " 2   vertical_drop         176 non-null    int64  \n",
      " 3   trams                 176 non-null    int64  \n",
      " 4   fastEight             176 non-null    float64\n",
      " 5   fastSixes             176 non-null    int64  \n",
      " 6   fastQuads             176 non-null    int64  \n",
      " 7   quad                  176 non-null    int64  \n",
      " 8   triple                176 non-null    int64  \n",
      " 9   double                176 non-null    int64  \n",
      " 10  surface               176 non-null    int64  \n",
      " 11  total_chairs          176 non-null    int64  \n",
      " 12  Runs                  176 non-null    float64\n",
      " 13  TerrainParks          176 non-null    float64\n",
      " 14  LongestRun_mi         176 non-null    float64\n",
      " 15  SkiableTerrain_ac     176 non-null    float64\n",
      " 16  Snow Making_ac        176 non-null    float64\n",
      " 17  daysOpenLastYear      176 non-null    float64\n",
      " 18  yearsOpen             176 non-null    float64\n",
      " 19  averageSnowfall       176 non-null    float64\n",
      " 20  AdultWeekend          176 non-null    float64\n",
      " 21  projectedDaysOpen     176 non-null    float64\n",
      " 22  NightSkiing_ac        176 non-null    float64\n",
      " 23  clusters              176 non-null    int64  \n",
      " 24  state_Alaska          176 non-null    uint8  \n",
      " 25  state_Arizona         176 non-null    uint8  \n",
      " 26  state_California      176 non-null    uint8  \n",
      " 27  state_Colorado        176 non-null    uint8  \n",
      " 28  state_Connecticut     176 non-null    uint8  \n",
      " 29  state_Idaho           176 non-null    uint8  \n",
      " 30  state_Illinois        176 non-null    uint8  \n",
      " 31  state_Indiana         176 non-null    uint8  \n",
      " 32  state_Iowa            176 non-null    uint8  \n",
      " 33  state_Maine           176 non-null    uint8  \n",
      " 34  state_Maryland        176 non-null    uint8  \n",
      " 35  state_Massachusetts   176 non-null    uint8  \n",
      " 36  state_Michigan        176 non-null    uint8  \n",
      " 37  state_Minnesota       176 non-null    uint8  \n",
      " 38  state_Missouri        176 non-null    uint8  \n",
      " 39  state_Montana         176 non-null    uint8  \n",
      " 40  state_Nevada          176 non-null    uint8  \n",
      " 41  state_New Hampshire   176 non-null    uint8  \n",
      " 42  state_New Jersey      176 non-null    uint8  \n",
      " 43  state_New Mexico      176 non-null    uint8  \n",
      " 44  state_New York        176 non-null    uint8  \n",
      " 45  state_North Carolina  176 non-null    uint8  \n",
      " 46  state_Ohio            176 non-null    uint8  \n",
      " 47  state_Oregon          176 non-null    uint8  \n",
      " 48  state_Pennsylvania    176 non-null    uint8  \n",
      " 49  state_Rhode Island    176 non-null    uint8  \n",
      " 50  state_South Dakota    176 non-null    uint8  \n",
      " 51  state_Tennessee       176 non-null    uint8  \n",
      " 52  state_Utah            176 non-null    uint8  \n",
      " 53  state_Vermont         176 non-null    uint8  \n",
      " 54  state_Virginia        176 non-null    uint8  \n",
      " 55  state_Washington      176 non-null    uint8  \n",
      " 56  state_West Virginia   176 non-null    uint8  \n",
      " 57  state_Wisconsin       176 non-null    uint8  \n",
      " 58  state_Wyoming         176 non-null    uint8  \n",
      "dtypes: float64(12), int64(11), object(1), uint8(35)\n",
      "memory usage: 39.1+ KB\n",
      "None\n"
     ]
    }
   ],
   "source": [
    "dfo=df[['state']] # select object type columns and then deselect name\n",
    "print(dfo.head())\n",
    "\n",
    "df1 = pd.concat([df.drop(dfo, axis=1), pd.get_dummies(dfo)], axis=1)\n",
    "\n",
    "print(df1.info())"
   ]
  },
  {
   "cell_type": "code",
   "execution_count": 5,
   "metadata": {},
   "outputs": [
    {
     "name": "stdout",
     "output_type": "stream",
     "text": [
      "<class 'pandas.core.frame.DataFrame'>\n",
      "RangeIndex: 176 entries, 0 to 175\n",
      "Data columns (total 24 columns):\n",
      " #   Column             Non-Null Count  Dtype  \n",
      "---  ------             --------------  -----  \n",
      " 0   Name               176 non-null    object \n",
      " 1   summit_elev        176 non-null    int64  \n",
      " 2   vertical_drop      176 non-null    int64  \n",
      " 3   trams              176 non-null    int64  \n",
      " 4   fastEight          176 non-null    float64\n",
      " 5   fastSixes          176 non-null    int64  \n",
      " 6   fastQuads          176 non-null    int64  \n",
      " 7   quad               176 non-null    int64  \n",
      " 8   triple             176 non-null    int64  \n",
      " 9   double             176 non-null    int64  \n",
      " 10  surface            176 non-null    int64  \n",
      " 11  total_chairs       176 non-null    int64  \n",
      " 12  Runs               176 non-null    float64\n",
      " 13  TerrainParks       176 non-null    float64\n",
      " 14  LongestRun_mi      176 non-null    float64\n",
      " 15  SkiableTerrain_ac  176 non-null    float64\n",
      " 16  Snow Making_ac     176 non-null    float64\n",
      " 17  daysOpenLastYear   176 non-null    float64\n",
      " 18  yearsOpen          176 non-null    float64\n",
      " 19  averageSnowfall    176 non-null    float64\n",
      " 20  AdultWeekend       176 non-null    float64\n",
      " 21  projectedDaysOpen  176 non-null    float64\n",
      " 22  NightSkiing_ac     176 non-null    float64\n",
      " 23  clusters           176 non-null    int64  \n",
      "dtypes: float64(12), int64(11), object(1)\n",
      "memory usage: 33.1+ KB\n"
     ]
    }
   ],
   "source": [
    "df2 = df.drop('state',axis=1)\n",
    "df2.info()"
   ]
  },
  {
   "cell_type": "code",
   "execution_count": 6,
   "metadata": {},
   "outputs": [
    {
     "name": "stdout",
     "output_type": "stream",
     "text": [
      "<class 'pandas.core.frame.DataFrame'>\n",
      "RangeIndex: 176 entries, 0 to 175\n",
      "Data columns (total 18 columns):\n",
      " #   Column             Non-Null Count  Dtype  \n",
      "---  ------             --------------  -----  \n",
      " 0   Name               176 non-null    object \n",
      " 1   trams              176 non-null    int64  \n",
      " 2   fastEight          176 non-null    float64\n",
      " 3   fastSixes          176 non-null    int64  \n",
      " 4   fastQuads          176 non-null    int64  \n",
      " 5   quad               176 non-null    int64  \n",
      " 6   triple             176 non-null    int64  \n",
      " 7   double             176 non-null    int64  \n",
      " 8   surface            176 non-null    int64  \n",
      " 9   total_chairs       176 non-null    int64  \n",
      " 10  Runs               176 non-null    float64\n",
      " 11  TerrainParks       176 non-null    float64\n",
      " 12  LongestRun_mi      176 non-null    float64\n",
      " 13  SkiableTerrain_ac  176 non-null    float64\n",
      " 14  Snow Making_ac     176 non-null    float64\n",
      " 15  AdultWeekend       176 non-null    float64\n",
      " 16  NightSkiing_ac     176 non-null    float64\n",
      " 17  clusters           176 non-null    int64  \n",
      "dtypes: float64(8), int64(9), object(1)\n",
      "memory usage: 24.9+ KB\n"
     ]
    }
   ],
   "source": [
    "df3 = df.drop(['state','summit_elev','vertical_drop','averageSnowfall','yearsOpen','daysOpenLastYear','projectedDaysOpen'], axis=1)\n",
    "df3.info()"
   ]
  },
  {
   "cell_type": "code",
   "execution_count": 7,
   "metadata": {},
   "outputs": [
    {
     "data": {
      "text/plain": [
       "array([[-0.49238543, -0.93659084,  0.        , ..., -0.13168538,\n",
       "        -0.25819889, -0.17099639],\n",
       "       [ 2.298836  ,  1.63287582,  0.        , ..., -0.13168538,\n",
       "        -0.25819889, -0.17099639],\n",
       "       [ 1.27652405, -0.41450797,  0.        , ..., -0.13168538,\n",
       "        -0.25819889, -0.17099639],\n",
       "       ...,\n",
       "       [ 1.27900238,  1.24216675,  0.        , ..., -0.13168538,\n",
       "        -0.25819889,  5.84807661],\n",
       "       [ 1.85366561,  0.25089176,  0.        , ..., -0.13168538,\n",
       "        -0.25819889,  5.84807661],\n",
       "       [ 1.8031696 ,  0.43856861,  0.        , ..., -0.13168538,\n",
       "        -0.25819889,  5.84807661]])"
      ]
     },
     "execution_count": 7,
     "metadata": {},
     "output_type": "execute_result"
    }
   ],
   "source": [
    "# first we import the preprocessing package from the sklearn library\n",
    "from sklearn import preprocessing\n",
    "\n",
    "# Declare an explanatory variable, called X,and assign it the result of dropping 'Name' and 'AdultWeekend' from the df\n",
    "X1 = df1.drop(['Name','AdultWeekend'], axis=1)\n",
    "\n",
    "# Declare a response variable, called y, and assign it the AdultWeekend column of the df \n",
    "y = df.loc[:,'AdultWeekend']\n",
    "\n",
    "# Here we use the StandardScaler() method of the preprocessing package, and then call the fit() method with parameter X \n",
    "scaler = preprocessing.StandardScaler().fit(X1)\n",
    "\n",
    "# Declare a variable called X_scaled, and assign it the result of calling the transform() method with parameter X \n",
    "X_scaled1 = scaler.transform(X1) \n",
    "X_scaled1"
   ]
  },
  {
   "cell_type": "code",
   "execution_count": 8,
   "metadata": {},
   "outputs": [
    {
     "data": {
      "text/plain": [
       "array([[-0.49238543, -0.93659084,  0.        , ...,  1.91224903,\n",
       "        -0.30088859,  0.62994079],\n",
       "       [ 2.298836  ,  1.63287582,  0.        , ..., -0.32287717,\n",
       "         0.75951174, -1.58745079],\n",
       "       [ 1.27652405, -0.41450797,  0.        , ..., -0.18318178,\n",
       "        -0.93712879, -1.58745079],\n",
       "       ...,\n",
       "       [ 1.27900238,  1.24216675,  0.        , ...,  0.56186028,\n",
       "         1.39575193, -1.58745079],\n",
       "       [ 1.85366561,  0.25089176,  0.        , ...,  0.23590438,\n",
       "        -0.93712879, -1.58745079],\n",
       "       [ 1.8031696 ,  0.43856861,  0.        , ...,  0.23590438,\n",
       "        -0.93712879, -1.58745079]])"
      ]
     },
     "execution_count": 8,
     "metadata": {},
     "output_type": "execute_result"
    }
   ],
   "source": [
    "# Declare an explanatory variable, called X,and assign it the result of dropping 'Name' and 'AdultWeekend' from the df\n",
    "X2 = df2.drop(['Name','AdultWeekend'], axis=1)\n",
    "\n",
    "# Here we use the StandardScaler() method of the preprocessing package, and then call the fit() method with parameter X \n",
    "scaler = preprocessing.StandardScaler().fit(X2)\n",
    "\n",
    "# Declare a variable called X_scaled, and assign it the result of calling the transform() method with parameter X \n",
    "X_scaled2 = scaler.transform(X2) \n",
    "X_scaled2"
   ]
  },
  {
   "cell_type": "code",
   "execution_count": 9,
   "metadata": {},
   "outputs": [
    {
     "data": {
      "text/plain": [
       "array([[ 0.        ,  0.        ,  0.        , ..., -0.86158761,\n",
       "        -0.30088859,  0.62994079],\n",
       "       [ 0.        ,  0.        ,  0.        , ..., -0.32780981,\n",
       "         0.75951174, -1.58745079],\n",
       "       [ 0.        ,  0.        ,  0.        , ...,  3.89845435,\n",
       "        -0.93712879, -1.58745079],\n",
       "       ...,\n",
       "       [ 0.        ,  0.        ,  0.        , ...,  1.48703468,\n",
       "         1.39575193, -1.58745079],\n",
       "       [ 0.        ,  0.        ,  0.        , ..., -0.86158761,\n",
       "        -0.93712879, -1.58745079],\n",
       "       [ 0.        ,  0.        ,  0.        , ..., -0.06092092,\n",
       "        -0.93712879, -1.58745079]])"
      ]
     },
     "execution_count": 9,
     "metadata": {},
     "output_type": "execute_result"
    }
   ],
   "source": [
    "# Declare an explanatory variable, called X,and assign it the result of dropping 'Name' and 'AdultWeekend' from the df\n",
    "X3 = df3.drop(['Name','AdultWeekend'], axis=1)\n",
    "\n",
    "# Here we use the StandardScaler() method of the preprocessing package, and then call the fit() method with parameter X \n",
    "scaler = preprocessing.StandardScaler().fit(X3)\n",
    "\n",
    "# Declare a variable called X_scaled, and assign it the result of calling the transform() method with parameter X \n",
    "X_scaled3 = scaler.transform(X3) \n",
    "X_scaled3"
   ]
  },
  {
   "cell_type": "code",
   "execution_count": 10,
   "metadata": {},
   "outputs": [],
   "source": [
    "from sklearn.model_selection import train_test_split\n",
    "\n",
    "# Get the 1-dimensional flattened array of our response variable y by calling the ravel() function on y\n",
    "y = y.ravel()"
   ]
  },
  {
   "cell_type": "code",
   "execution_count": 11,
   "metadata": {},
   "outputs": [],
   "source": [
    "# Call the train_test_split() function with the first two parameters set to X_scaled and y \n",
    "# Declare four variables, X_train, X_test, y_train and y_test separated by commas \n",
    "X_train1, X_test1, y_train1, y_test1 = train_test_split(X_scaled1, y, test_size=0.25, random_state=1)"
   ]
  },
  {
   "cell_type": "code",
   "execution_count": 12,
   "metadata": {},
   "outputs": [],
   "source": [
    "# Call the train_test_split() function with the first two parameters set to X_scaled and y \n",
    "# Declare four variables, X_train, X_test, y_train and y_test separated by commas \n",
    "X_train2, X_test2, y_train2, y_test2 = train_test_split(X_scaled2, y, test_size=0.25, random_state=1)"
   ]
  },
  {
   "cell_type": "code",
   "execution_count": 13,
   "metadata": {},
   "outputs": [],
   "source": [
    "# Call the train_test_split() function with the first two parameters set to X_scaled and y \n",
    "# Declare four variables, X_train, X_test, y_train and y_test separated by commas \n",
    "X_train3, X_test3, y_train3, y_test3 = train_test_split(X_scaled3, y, test_size=0.25, random_state=1)"
   ]
  },
  {
   "cell_type": "code",
   "execution_count": 14,
   "metadata": {},
   "outputs": [],
   "source": [
    "# all first model set\n",
    "from sklearn import linear_model\n",
    "from sklearn.metrics import explained_variance_score,mean_absolute_error\n",
    "\n",
    "lm = linear_model.LinearRegression()\n",
    "model = lm.fit(X_train1,y_train1)"
   ]
  },
  {
   "cell_type": "code",
   "execution_count": 15,
   "metadata": {},
   "outputs": [],
   "source": [
    "# Make a variable called y_pred and assign it the result of calling predict() on our model variable with parameter X_test\n",
    "y_pred1 = model.predict(X_test1)"
   ]
  },
  {
   "cell_type": "code",
   "execution_count": 16,
   "metadata": {},
   "outputs": [
    {
     "data": {
      "text/plain": [
       "-8.578442595947218e+16"
      ]
     },
     "execution_count": 16,
     "metadata": {},
     "output_type": "execute_result"
    }
   ],
   "source": [
    "# You might want to use the explained_variance_score() and mean_absolute_error() metrics.\n",
    "# You can plug y_test and y_pred into the functions to evaluate the model\n",
    "explained_variance_score(y_test1, y_pred1)"
   ]
  },
  {
   "cell_type": "code",
   "execution_count": 17,
   "metadata": {},
   "outputs": [
    {
     "data": {
      "text/plain": [
       "651301151.8291173"
      ]
     },
     "execution_count": 17,
     "metadata": {},
     "output_type": "execute_result"
    }
   ],
   "source": [
    "mean_absolute_error(y_test1, y_pred1)"
   ]
  },
  {
   "cell_type": "code",
   "execution_count": null,
   "metadata": {},
   "outputs": [],
   "source": [
    "lm.intercept_"
   ]
  },
  {
   "cell_type": "code",
   "execution_count": 19,
   "metadata": {},
   "outputs": [
    {
     "data": {
      "text/plain": [
       "array([ 4.84214377e+01,  6.91143087e+01,  7.07844748e+01,  4.15088400e+01,\n",
       "        5.30242209e+01,  4.55442404e+01,  4.93483175e+01,  7.89348654e+01,\n",
       "        4.40544943e+01,  4.73807882e+01,  8.59675802e+01,  8.64153341e+01,\n",
       "        4.54136252e+01,  5.99636740e+01,  5.07610373e+01,  5.95769552e+01,\n",
       "        9.89758810e+01,  3.65696310e+01,  5.37366232e+01,  4.56900534e+01,\n",
       "        5.82043966e+01,  4.69520163e+01,  5.84775900e+01,  6.05383810e+01,\n",
       "        4.28357443e+01,  7.44529318e+01,  3.64736837e+01,  3.51834005e+01,\n",
       "        6.98301291e+01,  6.05500998e+01,  6.19844259e+01,  8.85407003e+01,\n",
       "        9.42659201e+01,  6.18831076e+01,  4.85471701e+01,  7.10300802e+01,\n",
       "       -2.86572502e+10,  7.98586935e+01,  7.71067404e+01,  5.48889669e+01,\n",
       "        4.54775290e+01,  3.26575216e+01,  7.63635763e+01,  3.11337179e+01])"
      ]
     },
     "execution_count": 19,
     "metadata": {},
     "output_type": "execute_result"
    }
   ],
   "source": [
    "y_pred1"
   ]
  },
  {
   "cell_type": "code",
   "execution_count": null,
   "metadata": {},
   "outputs": [],
   "source": []
  }
 ],
 "metadata": {
  "kernelspec": {
   "display_name": "Python 3",
   "language": "python",
   "name": "python3"
  },
  "language_info": {
   "codemirror_mode": {
    "name": "ipython",
    "version": 3
   },
   "file_extension": ".py",
   "mimetype": "text/x-python",
   "name": "python",
   "nbconvert_exporter": "python",
   "pygments_lexer": "ipython3",
   "version": "3.7.6"
  }
 },
 "nbformat": 4,
 "nbformat_minor": 4
}
